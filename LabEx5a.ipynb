{
 "cells": [
  {
   "cell_type": "code",
   "execution_count": 1,
   "id": "0f57f0f3-b5b9-48a7-8c13-2db7e0aa15a4",
   "metadata": {},
   "outputs": [
    {
     "name": "stdout",
     "output_type": "stream",
     "text": [
      "Path found: ['A', 'F', 'G', 'I', 'J']\n"
     ]
    },
    {
     "data": {
      "text/plain": [
       "['A', 'F', 'G', 'I', 'J']"
      ]
     },
     "execution_count": 1,
     "metadata": {},
     "output_type": "execute_result"
    }
   ],
   "source": [
    "def aStarAlgo(start_node, stop_node):\n",
    "    open_set = {start_node}\n",
    "    closed_set = set()\n",
    "    g = {start_node: 0}\n",
    "    parents = {start_node: start_node}\n",
    "\n",
    "    while open_set:\n",
    "        n = min(open_set, key=lambda x: g[x] + heuristic(x))\n",
    "\n",
    "        if n == stop_node or n not in Graph_nodes:\n",
    "            break\n",
    "\n",
    "        open_set.remove(n)\n",
    "        closed_set.add(n)\n",
    "\n",
    "        for (m, weight) in get_neighbors(n):\n",
    "            if m not in open_set and m not in closed_set:\n",
    "                open_set.add(m)\n",
    "                parents[m] = n\n",
    "                g[m] = g[n] + weight\n",
    "\n",
    "            elif m in open_set and g[m] > g[n] + weight:\n",
    "                g[m] = g[n] + weight\n",
    "                parents[m] = n\n",
    "\n",
    "                if m in closed_set:\n",
    "                    closed_set.remove(m)\n",
    "\n",
    "                open_set.add(m)\n",
    "\n",
    "    if n == stop_node:\n",
    "        path = []\n",
    "        while parents[n] != n:\n",
    "            path.append(n)\n",
    "            n = parents[n]\n",
    "        path.append(start_node)\n",
    "        path.reverse()\n",
    "        print('Path found: {}'.format(path))\n",
    "        return path\n",
    "    else:\n",
    "        print('Path does not exist!')\n",
    "        return None\n",
    "\n",
    "def get_neighbors(v):\n",
    "    if v in Graph_nodes:\n",
    "        return Graph_nodes[v]\n",
    "    else:\n",
    "        return []\n",
    "\n",
    "def heuristic(n):\n",
    "    H_dist = {\n",
    "        'A': 11, 'B': 6, 'C': 5, 'D': 7, 'E': 3, \n",
    "        'F': 6, 'G': 5, 'H': 3, 'I': 1, 'J': 0\n",
    "    }\n",
    "    return H_dist[n]\n",
    "\n",
    "Graph_nodes = {\n",
    "    'A': [('B', 6), ('F', 3)],\n",
    "    'B': [('A', 6), ('C', 3), ('D', 2)],\n",
    "    'C': [('B', 3), ('D', 1), ('E', 5)],\n",
    "    'D': [('B', 2), ('C', 1), ('E', 8)],\n",
    "    'E': [('C', 5), ('D', 8), ('I', 5), ('J', 5)],\n",
    "    'F': [('A', 3), ('G', 1), ('H', 7)],\n",
    "    'G': [('F', 1), ('I', 3)],\n",
    "    'H': [('F', 7), ('I', 2)],\n",
    "    'I': [('E', 5), ('G', 3), ('H', 2), ('J', 3)],\n",
    "}\n",
    "\n",
    "aStarAlgo('A', 'J')"
   ]
  },
  {
   "cell_type": "code",
   "execution_count": null,
   "id": "2dba750a-aad7-482b-8142-b88f4e056da4",
   "metadata": {},
   "outputs": [],
   "source": []
  }
 ],
 "metadata": {
  "kernelspec": {
   "display_name": "Python [conda env:base] *",
   "language": "python",
   "name": "conda-base-py"
  },
  "language_info": {
   "codemirror_mode": {
    "name": "ipython",
    "version": 3
   },
   "file_extension": ".py",
   "mimetype": "text/x-python",
   "name": "python",
   "nbconvert_exporter": "python",
   "pygments_lexer": "ipython3",
   "version": "3.12.3"
  }
 },
 "nbformat": 4,
 "nbformat_minor": 5
}
