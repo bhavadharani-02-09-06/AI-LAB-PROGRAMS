{
 "cells": [
  {
   "cell_type": "code",
   "execution_count": 1,
   "id": "9f3bddaf-a24d-4e62-8aaf-a3e7ce0a00f1",
   "metadata": {},
   "outputs": [
    {
     "name": "stdout",
     "output_type": "stream",
     "text": [
      "Following is Depth First Traversal (starting from vertex 2)\n",
      "2 0 1 3 "
     ]
    }
   ],
   "source": [
    "# Python3 program to print DFS traversal from a given graph\n",
    "from collections import defaultdict\n",
    "\n",
    "# This class represents a directed graph using adjacency list representation\n",
    "class Graph:\n",
    "\n",
    "    # Constructor\n",
    "    def __init__(self):\n",
    "        # Default dictionary to store graph\n",
    "        self.graph = defaultdict(list)\n",
    "\n",
    "    # Function to add an edge to the graph\n",
    "    def addEdge(self, u, v):\n",
    "        self.graph[u].append(v)\n",
    "\n",
    "    # A function used by DFS\n",
    "    def DFSUtil(self, v, visited):\n",
    "        # Mark the current node as visited and print it\n",
    "        visited.add(v)\n",
    "        print(v, end=' ')\n",
    "\n",
    "        # Recur for all the vertices adjacent to this vertex\n",
    "        for neighbour in self.graph[v]:\n",
    "            if neighbour not in visited:\n",
    "                self.DFSUtil(neighbour, visited)\n",
    "\n",
    "    # The function to do DFS traversal. It uses recursive DFSUtil()\n",
    "    def DFS(self, v):\n",
    "        # Create a set to store visited vertices\n",
    "        visited = set()\n",
    "\n",
    "        # Call the recursive helper function to print DFS traversal\n",
    "        self.DFSUtil(v, visited)\n",
    "\n",
    "\n",
    "# Driver code\n",
    "if __name__ == \"__main__\":\n",
    "    g = Graph()\n",
    "\n",
    "    g.addEdge(0, 1)\n",
    "    g.addEdge(0, 2)\n",
    "    g.addEdge(1, 2)\n",
    "    g.addEdge(2, 0)\n",
    "    g.addEdge(2, 3)\n",
    "    g.addEdge(3, 3)\n",
    "\n",
    "    print(\"Following is Depth First Traversal (starting from vertex 2)\")\n",
    "\n",
    "    # Function call\n",
    "    g.DFS(2)\n"
   ]
  },
  {
   "cell_type": "code",
   "execution_count": null,
   "id": "d6bc5c34-f8d5-4499-a40b-900de044dd4e",
   "metadata": {},
   "outputs": [],
   "source": []
  }
 ],
 "metadata": {
  "kernelspec": {
   "display_name": "Python [conda env:base] *",
   "language": "python",
   "name": "conda-base-py"
  },
  "language_info": {
   "codemirror_mode": {
    "name": "ipython",
    "version": 3
   },
   "file_extension": ".py",
   "mimetype": "text/x-python",
   "name": "python",
   "nbconvert_exporter": "python",
   "pygments_lexer": "ipython3",
   "version": "3.12.7"
  }
 },
 "nbformat": 4,
 "nbformat_minor": 5
}
